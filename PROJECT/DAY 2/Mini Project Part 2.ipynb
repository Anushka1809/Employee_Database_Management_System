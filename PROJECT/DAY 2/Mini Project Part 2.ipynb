{
 "cells": [
  {
   "cell_type": "code",
   "execution_count": 5,
   "id": "62467894",
   "metadata": {},
   "outputs": [
    {
     "name": "stdout",
     "output_type": "stream",
     "text": [
      "Welcome to Employee System\n",
      "Please Enter Login id:  admin\n",
      "Please Enter Password:  admin\n",
      "Welcome Admin!!\n",
      "Enter 1 to add employee\n",
      "Enter 2 to remove employee\n",
      "Enter 3 to add hr\n",
      "Enter 4 to remove hr\n",
      "Enter q to exit\n",
      "Enter your Option-> 1\n",
      "EMPLOYEE ID-> 1238\n",
      "EMPLOYEE NAME-> anushka\n",
      "DATE OF JOINING-> 15.04.18\n",
      "DESIGNATION-> student\n",
      "SALARY-> 0\n",
      "Employee details added successfully\n",
      "Welcome Admin!!\n",
      "Enter 1 to add employee\n",
      "Enter 2 to remove employee\n",
      "Enter 3 to add hr\n",
      "Enter 4 to remove hr\n",
      "Enter q to exit\n",
      "Enter your Option-> 4\n",
      "EMPLOYEE ID-> 1234\n",
      "Is he leaving the company totally?\n",
      "Enter yes or no-> yes\n",
      "Welcome Admin!!\n",
      "Enter 1 to add employee\n",
      "Enter 2 to remove employee\n",
      "Enter 3 to add hr\n",
      "Enter 4 to remove hr\n",
      "Enter q to exit\n",
      "Enter your Option-> q\n"
     ]
    }
   ],
   "source": [
    "import login"
   ]
  },
  {
   "cell_type": "code",
   "execution_count": null,
   "id": "6baa80cf",
   "metadata": {},
   "outputs": [],
   "source": []
  },
  {
   "cell_type": "code",
   "execution_count": null,
   "id": "8ca8df37",
   "metadata": {},
   "outputs": [],
   "source": []
  }
 ],
 "metadata": {
  "kernelspec": {
   "display_name": "Python 3",
   "language": "python",
   "name": "python3"
  },
  "language_info": {
   "codemirror_mode": {
    "name": "ipython",
    "version": 3
   },
   "file_extension": ".py",
   "mimetype": "text/x-python",
   "name": "python",
   "nbconvert_exporter": "python",
   "pygments_lexer": "ipython3",
   "version": "3.8.8"
  }
 },
 "nbformat": 4,
 "nbformat_minor": 5
}
